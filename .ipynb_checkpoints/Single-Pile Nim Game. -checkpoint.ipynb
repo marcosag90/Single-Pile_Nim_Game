{
 "cells": [
  {
   "cell_type": "markdown",
   "metadata": {},
   "source": [
    "# Single Pile Nim Game - SCU AMTH 377/ COEN 279"
   ]
  },
  {
   "cell_type": "markdown",
   "metadata": {},
   "source": [
    "### Group: Minh Do, Troy Ibanez, Angela Lam, Marcos Alvarez, Susan Lie."
   ]
  },
  {
   "cell_type": "markdown",
   "metadata": {},
   "source": [
    "This is an implementation of a Wining_Move function for a Single-Pile Nim Game. \n",
    "#### Overview\n",
    "* The game starts with a pile of N nims. Two players take turns to remove nims from the pile. The one who removes the last nim wins.\n",
    "* On the first move, the player who starts can remove a maximum of N-1 nims.\n",
    "* After that, players can take a maximum of twice the number of nims the previous player took.\n",
    "* 0 move is not allowed.\n"
   ]
  },
  {
   "cell_type": "markdown",
   "metadata": {},
   "source": [
    "### Possible solutions\n",
    "There are several aproaches to this game.\n",
    "* Fibbonaci Sequence: In order for Player 1 to win, she must try to leave Player 2 with a number of nims that is in the Fibbonaci sequence. To ensure that, she must find all the previous numbers of the fibbonaci sequence up to N, and try to make Player 2 stay in those numbers. To do that, Player 1 should divide the problem into smaller problems, and look at the difference between N and its closest smaller Fib number as a new pile. The new pile would have to be also divided Fibo numbers, and so on. This is a recursive solution. It is a bottom-up solution.\n",
    "\n",
    "* Dynamic Programming: This approach makes no assumptions whatsoever. The main idea behind this algorithm is to explore all possible ways to leave the other player without a Winning_Move. The recursion in this algorithm comes into play by recursively solving smaller problems. It is an up-bottom solution. \n",
    "\n",
    "In our solution, we will let the machine make its own decissions independently with no a-priori information of a winning strategy, but just the rules of the game. Thus, we will implement the Dynamic Programming approach.\n",
    "\n"
   ]
  },
  {
   "cell_type": "markdown",
   "metadata": {},
   "source": [
    "### Solution:\n",
    "* N( i ) = Pile of items\n",
    "* q( i ) = Max allowable items to pick\n",
    "* W(i) = Move(N(i), q(i), i)  is winning pick\n",
    "* Pick W(i) such that N(i) - 2 * W(i) > 0 and place the player in the stable winning position throughout the subsequent turns\n"
   ]
  },
  {
   "cell_type": "code",
   "execution_count": 2,
   "metadata": {
    "collapsed": true
   },
   "outputs": [],
   "source": [
    "max_moves = {}  #makes a hashmap for easy lookup (so program doesn't take forever)\n",
    "\n",
    "def winning_move(pile, n_max_move):\n",
    "  if pile <= n_max_move:  #if your max move is the same as your pile, you win\n",
    "    return pile\n",
    "  for move in range(n_max_move, 0, -1):   #cycle through all your options\n",
    "    new_pile = pile - move       #your opponent's pile is based on how many you take\n",
    "    if new_pile <= 2 * move:     \n",
    "      new_max = new_pile  #the max your opponent can take is either their whole pile (if < 2 * how many you took)\n",
    "    else:\n",
    "      new_max = 2 * move       #or 2 * how many you took\n",
    "    if (new_pile, new_max) in max_moves:    #if we've done this combo before\n",
    "      opponent_move = max_moves[new_pile, new_max]    #read the value from the hashmap\n",
    "    else:\n",
    "      opponent_move = winning_move(new_pile, new_max)  #else, call winningmove for your opponent\n",
    "      max_moves[new_pile, new_max] = opponent_move            #add the value to the hashmap\n",
    "    if opponent_move == 0:                #if your opponent has no winning moves\n",
    "      return move        #return the number of chips you took\n",
    "  return 0            #if you've gone through all your options and your opponent always had winning moves, you don't have a winning move\n",
    "  "
   ]
  },
  {
   "cell_type": "markdown",
   "metadata": {},
   "source": [
    "### Testing: (Asumption that both players use the same strategy)"
   ]
  },
  {
   "cell_type": "code",
   "execution_count": 3,
   "metadata": {
    "collapsed": false
   },
   "outputs": [
    {
     "name": "stdout",
     "output_type": "stream",
     "text": [
      "Starting pile: is 22, Player1 max-move is 21,  and winning-number is 1\n",
      "\t pile: is 21, Player2 max-move is 2,  and winning-number is 0. So Player2 has no moves that would lead to a win.\n"
     ]
    }
   ],
   "source": [
    "def main(ipile):\n",
    "    imaxMoves = ipile-1\n",
    "    m = winning_move(ipile, imaxMoves)\n",
    "    print \"Starting pile: is %d, Player1 max-move is %d,  and winning-number is %d\" %(ipile, imaxMoves, m)\n",
    "    if (m == 0):\n",
    "        print \"\\t Winning-number is %d. Player 1 has no movements that would lead to a win.\" %(m)\n",
    "        return 0\n",
    "    iturn = 1\n",
    "    while (ipile > 0 and imaxMoves > 0 and ipile > m):\n",
    "        iturn=iturn+1\n",
    "        if (iturn % 2 == 0):\n",
    "            player = 2\n",
    "        else:\n",
    "            player = 1\n",
    "        ipile = ipile - m\n",
    "        imaxMoves = m * 2\n",
    "        m = winning_move(ipile, imaxMoves)\n",
    "        if (m == 0):\n",
    "            print \"\\t pile: is %d, Player%d max-move is %d,  and winning-number is %d. So Player%d has no moves that would lead to a win.\" %(ipile, player, imaxMoves, m, player)\n",
    "            break\n",
    "        print \"\\t pile: is %d, Player%d max-move is %d,  and winning-number is %d\" %(ipile, player, imaxMoves, m)\n",
    "\n",
    "\n",
    "main(22)"
   ]
  },
  {
   "cell_type": "code",
   "execution_count": null,
   "metadata": {
    "collapsed": true
   },
   "outputs": [],
   "source": []
  }
 ],
 "metadata": {
  "kernelspec": {
   "display_name": "Python 2",
   "language": "python",
   "name": "python2"
  },
  "language_info": {
   "codemirror_mode": {
    "name": "ipython",
    "version": 2
   },
   "file_extension": ".py",
   "mimetype": "text/x-python",
   "name": "python",
   "nbconvert_exporter": "python",
   "pygments_lexer": "ipython2",
   "version": "2.7.13"
  }
 },
 "nbformat": 4,
 "nbformat_minor": 2
}
