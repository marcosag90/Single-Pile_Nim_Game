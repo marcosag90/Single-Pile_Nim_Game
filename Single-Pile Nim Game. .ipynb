{
 "cells": [
  {
   "cell_type": "markdown",
   "metadata": {},
   "source": [
    "# Single Pile Nim Game - SCU AMTH 377/ COEN 279"
   ]
  },
  {
   "cell_type": "markdown",
   "metadata": {},
   "source": [
    "### Group: Minh Do, Troy Ibanez, Angela Lam, Marcos Alvarez, Susan Xie."
   ]
  },
  {
   "cell_type": "markdown",
   "metadata": {},
   "source": [
    "This is an implementation of a Wining_Move function for a Single-Pile Nim Game. \n",
    "#### Overview\n",
    "* The game starts with a pile of N nims. Two players take turns to remove nims from the pile. The one who removes the last nim wins.\n",
    "* On the first move, the player who starts can remove a maximum of N-1 nims.\n",
    "* After that, players can take a maximum of twice the number of nims the previous player took.\n",
    "* 0 move is not allowed.\n"
   ]
  },
  {
   "cell_type": "markdown",
   "metadata": {},
   "source": [
    "### Possible solutions\n",
    "There are several aproaches to this game.\n",
    "* Fibbonaci Sequence: In order for Player 1 to win, she must try to leave Player 2 with a number of nims that is in the Fibbonaci sequence. To ensure that, she must find all the previous numbers of the fibbonaci sequence up to N, and try to make Player 2 stay in those numbers. To do that, Player 1 should divide the problem into smaller problems, and look at the difference between N and its closest smaller Fib number as a new pile. The new pile would have to be also divided Fibo numbers, and so on. This is a recursive solution. It is a bottom-up solution.\n",
    "\n",
    "* Dynamic Programming: This approach makes no assumptions whatsoever. The main idea behind this algorithm is to explore all possible ways to leave the other player without a Winning_Move. The recursion in this algorithm comes into play by recursively solving smaller problems. It is an up-bottom solution. \n",
    "\n",
    "In our solution, we will let the machine make its own decissions independently with no a-priori information of a winning strategy, but just the rules of the game. Thus, we will implement the Dynamic Programming approach.\n",
    "\n"
   ]
  },
  {
   "cell_type": "markdown",
   "metadata": {},
   "source": [
    "### Solution:\n",
    "* N( i ) = Pile of items\n",
    "* q( i ) = Max allowable items to pick\n",
    "* W(i) = Move(N(i), q(i), i)  is winning pick\n",
    "* Pick W(i) such that N(i) - 2 * W(i) > 0 and place the player in the stable winning position throughout the subsequent turns\n"
   ]
  },
  {
   "cell_type": "code",
   "execution_count": 1,
   "metadata": {
    "collapsed": true
   },
   "outputs": [],
   "source": [
    "from random import randint\n",
    "import math\n",
    "max_moves = {}  #makes a hashmap for easy lookup (so program doesn't take forever)\n",
    "import string"
   ]
  },
  {
   "cell_type": "code",
   "execution_count": 2,
   "metadata": {
    "collapsed": true
   },
   "outputs": [],
   "source": [
    "def winning_move(pile, n_max_move):\n",
    "  if pile <= n_max_move:  #if your max move is the same as your pile, you win\n",
    "    return pile\n",
    "  for move in range(n_max_move, 0, -1):   #cycle through all your options\n",
    "    new_pile = pile - move       #your opponent's pile is based on how many you take\n",
    "    new_max = min(new_pile, 2 * move)\n",
    "    if (new_pile, new_max) in max_moves:    #if we've done this combo before\n",
    "      opponent_move = max_moves[new_pile, new_max]    #read the value from the hashmap\n",
    "    else:\n",
    "      opponent_move = winning_move(new_pile, new_max)  #else, call winningmove for your opponent\n",
    "      max_moves[new_pile, new_max] = opponent_move            #add the value to the hashmap\n",
    "    if opponent_move == 0:                #if your opponent has no winning moves\n",
    "      return move        #return the number of chips you took\n",
    "  return 0            #if you've gone through all your options and your opponent always had winning moves, you don't have a winning move"
   ]
  },
  {
   "cell_type": "code",
   "execution_count": 3,
   "metadata": {
    "collapsed": true
   },
   "outputs": [],
   "source": [
    "d = {}\n",
    "def w(pile, r_max_move):\n",
    "  if r_max_move >= pile:  #if your max move is greater than or equal to the pile, return the pile\n",
    "    return pile\n",
    "  if (pile-r_max_move,2*r_max_move) in d:  #Case 1 [w(pile-r_max_move, 2*r_max_move)==0]: read from hashmap or add into hashmap if not there\n",
    "    x = d[pile-r_max_move, 2*r_max_move]\n",
    "  else:\n",
    "    x = w(pile-r_max_move,2*r_max_move)\n",
    "    d[pile-r_max_move, 2*r_max_move] = x\n",
    "  if x==0: \n",
    "    return r_max_move\n",
    "  elif r_max_move>1:           #Case 2 [r>1]: read from hashmap or add into hashmap if not there\n",
    "    if (pile,r_max_move-1) in d:\n",
    "      y = d[pile,r_max_move-1]\n",
    "    else:\n",
    "      y = w(pile,r_max_move-1)\n",
    "      d[pile,r_max_move-1] = y\n",
    "    return y\n",
    "  else:\n",
    "    return 0\n",
    "\n",
    "def print_winning_table(p_rows):\n",
    "    r_format =\"  r = \".ljust(4)\n",
    "    table = \"\".ljust(5)\n",
    "    for p in range(1, p_rows+1, 1):\n",
    "        nline = \"p=\"+ str(p).ljust(2) + \"|\".ljust(1)\n",
    "        for r in range(1, p+1, 1):\n",
    "            nline = nline + str(w(p,r)).center(3)\n",
    "        print (nline)\n",
    "    for r in range(1, p_rows+1, 1):\n",
    "        table += \"-\".ljust(3,\"-\")\n",
    "        r_format += str(r).ljust(3)\n",
    "    print (table)\n",
    "    print (r_format)"
   ]
  },
  {
   "cell_type": "code",
   "execution_count": 4,
   "metadata": {
    "collapsed": false
   },
   "outputs": [],
   "source": [
    "def simulatedGame(ipile):\n",
    "    imaxMoves=ipile-1\n",
    "    print \"\\t\\t ----STARTING A SIMULATED GAME---\"\n",
    "    print \"\\t\\t ------Player 2 takes random-----\"\n",
    "    p1 = winning_move(ipile, imaxMoves)\n",
    "    if p1==0:\n",
    "        if imaxMoves<4:\n",
    "            p1=1\n",
    "        else:\n",
    "            p1=randint(1, math.ceil(imaxMoves/4))\n",
    "        print \"Starting pile is %d. Player 1 does not have any move that guarantees victory. Randomly takes %d\" %(ipile, p1)\n",
    "    else:\n",
    "        print \"Starting pile is %d . Player 1 starts. Max-move is %d. Winning-number is %d \" %(ipile, imaxMoves, p1)\n",
    "    ipile=ipile-p1\n",
    "    imaxMoves=2*p1\n",
    "    player = 2\n",
    "    while ipile>0:\n",
    "        if player == 2:\n",
    "            if ipile<=imaxMoves:\n",
    "                p2 = ipile\n",
    "            else:\n",
    "                p2 = randint(1, imaxMoves)\n",
    "            print \"The pile is %d . Max-move is %d . Player 2 takes %d \" %(ipile, imaxMoves, p2)\n",
    "            ipile=ipile-p2\n",
    "            imaxMoves=2*p2\n",
    "        if player == 1: \n",
    "            p1 = winning_move(ipile, imaxMoves)\n",
    "            if p1==0:\n",
    "                pi=randint(1, imaxMoves)\n",
    "                print \"Player 1: Pile is %d. There is not any move that guarantees victory. Takes %d\" %(ipile, p1)\n",
    "            else:\n",
    "                print \"Player 1: Pile is %d . Max-move is %d. Winning-number is %d \" %(ipile, imaxMoves, p1)\n",
    "            ipile=ipile-p1\n",
    "            imaxMoves=2*p1\n",
    "        if player == 2:\n",
    "            player = 1\n",
    "        else:\n",
    "            player = 2\n",
    "    if player == 1:\n",
    "        print \"Player 2 wins.\"\n",
    "    else:\n",
    "        print \"Player 1 wins.\"\n",
    "    \n",
    "    "
   ]
  },
  {
   "cell_type": "markdown",
   "metadata": {},
   "source": [
    "### Testing: (Asumption that both players use the same strategy)"
   ]
  },
  {
   "cell_type": "code",
   "execution_count": 7,
   "metadata": {
    "collapsed": false,
    "scrolled": true
   },
   "outputs": [],
   "source": [
    "def test(ipile):\n",
    "    original = ipile\n",
    "    imaxMoves = ipile-1\n",
    "    m = winning_move(ipile, imaxMoves)\n",
    "    print \"\\t Starting pile: is %d, Player1 max-move is %d,  and winning-number is %d\" %(ipile, imaxMoves, m)\n",
    "    if (m == 0):\n",
    "        print \"\\t Winning-number is %d. Player 1 has no movements that would lead to a win.\" %(m)\n",
    "        simulatedGame(original)\n",
    "        return 0\n",
    "    iturn = 1\n",
    "    while (ipile > 0 and imaxMoves > 0 and ipile > m):\n",
    "        iturn=iturn+1\n",
    "        if (iturn % 2 == 0):\n",
    "            player = 2\n",
    "        else:\n",
    "            player = 1\n",
    "        ipile = ipile - m\n",
    "        imaxMoves = m * 2\n",
    "        m = winning_move(ipile, imaxMoves)\n",
    "        if (m == 0):\n",
    "            print \"\\t pile: is %d, Player%d max-move is %d,  and winning-number is %d. So Player%d has no moves that would lead to a win.\" %(ipile, player, imaxMoves, m, player)\n",
    "            #simulatedGame(original)\n",
    "            break\n",
    "        print \"\\t pile: is %d, Player%d max-move is %d,  and winning-number is %d\" %(ipile, player, imaxMoves, m)\n",
    "\n",
    "    simulatedGame(original)"
   ]
  },
  {
   "cell_type": "code",
   "execution_count": 8,
   "metadata": {
    "collapsed": false
   },
   "outputs": [
    {
     "name": "stdout",
     "output_type": "stream",
     "text": [
      "\t Starting pile: is 40, Player1 max-move is 39,  and winning-number is 6\n",
      "\t pile: is 34, Player2 max-move is 12,  and winning-number is 0. So Player2 has no moves that would lead to a win.\n",
      "\t\t ----STARTING A SIMULATED GAME---\n",
      "\t\t ------Player 2 takes random-----\n",
      "Starting pile is 40 . Player 1 starts. Max-move is 39. Winning-number is 6 \n",
      "The pile is 34 . Max-move is 12 . Player 2 takes 7 \n",
      "Player 1: Pile is 27 . Max-move is 14. Winning-number is 6 \n",
      "The pile is 21 . Max-move is 12 . Player 2 takes 10 \n",
      "Player 1: Pile is 11 . Max-move is 20. Winning-number is 11 \n",
      "Player 1 wins.\n"
     ]
    }
   ],
   "source": [
    "test(40)"
   ]
  },
  {
   "cell_type": "code",
   "execution_count": 9,
   "metadata": {
    "collapsed": false
   },
   "outputs": [
    {
     "name": "stdout",
     "output_type": "stream",
     "text": [
      "p=1 | 1 \n",
      "p=2 | 0  2 \n",
      "p=3 | 0  0  3 \n",
      "p=4 | 1  1  1  4 \n",
      "p=5 | 0  0  0  0  5 \n",
      "p=6 | 1  1  1  1  1  6 \n",
      "p=7 | 0  2  2  2  2  2  7 \n",
      "p=8 | 0  0  0  0  0  0  0  8 \n",
      "p=9 | 1  1  1  1  1  1  1  1  9 \n",
      "p=10| 0  2  2  2  2  2  2  2  2  10\n",
      "p=11| 0  0  3  3  3  3  3  3  3  3  11\n",
      "p=12| 1  1  1  1  1  1  1  1  1  1  1  12\n",
      "p=13| 0  0  0  0  0  0  0  0  0  0  0  0  13\n",
      "p=14| 1  1  1  1  1  1  1  1  1  1  1  1  1  14\n",
      "p=15| 0  2  2  2  2  2  2  2  2  2  2  2  2  2  15\n",
      "p=16| 0  0  3  3  3  3  3  3  3  3  3  3  3  3  3  16\n",
      "p=17| 1  1  1  4  4  4  4  4  4  4  4  4  4  4  4  4  17\n",
      "p=18| 0  0  0  0  5  5  5  5  5  5  5  5  5  5  5  5  5  18\n",
      "p=19| 1  1  1  1  1  6  6  6  6  6  6  6  6  6  6  6  6  6  19\n",
      "p=20| 0  2  2  2  2  2  2  2  2  2  2  2  2  2  2  2  2  2  2  20\n",
      "p=21| 0  0  0  0  0  0  0  0  0  0  0  0  0  0  0  0  0  0  0  0  21\n",
      "p=22| 1  1  1  1  1  1  1  1  1  1  1  1  1  1  1  1  1  1  1  1  1  22\n",
      "p=23| 0  2  2  2  2  2  2  2  2  2  2  2  2  2  2  2  2  2  2  2  2  2  23\n",
      "p=24| 0  0  3  3  3  3  3  3  3  3  3  3  3  3  3  3  3  3  3  3  3  3  3  24\n",
      "p=25| 1  1  1  4  4  4  4  4  4  4  4  4  4  4  4  4  4  4  4  4  4  4  4  4  25\n",
      "p=26| 0  0  0  0  5  5  5  5  5  5  5  5  5  5  5  5  5  5  5  5  5  5  5  5  5  26\n",
      "p=27| 1  1  1  1  1  6  6  6  6  6  6  6  6  6  6  6  6  6  6  6  6  6  6  6  6  6  27\n",
      "p=28| 0  2  2  2  2  2  7  7  7  7  7  7  7  7  7  7  7  7  7  7  7  7  7  7  7  7  7  28\n",
      "p=29| 0  0  0  0  0  0  0  8  8  8  8  8  8  8  8  8  8  8  8  8  8  8  8  8  8  8  8  8  29\n",
      "p=30| 1  1  1  1  1  1  1  1  9  9  9  9  9  9  9  9  9  9  9  9  9  9  9  9  9  9  9  9  9  30\n",
      "p=31| 0  2  2  2  2  2  2  2  2  10 10 10 10 10 10 10 10 10 10 10 10 10 10 10 10 10 10 10 10 10 31\n",
      "p=32| 0  0  3  3  3  3  3  3  3  3  3  3  3  3  3  3  3  3  3  3  3  3  3  3  3  3  3  3  3  3  3  32\n",
      "p=33| 1  1  1  1  1  1  1  1  1  1  1  1  1  1  1  1  1  1  1  1  1  1  1  1  1  1  1  1  1  1  1  1  33\n",
      "p=34| 0  0  0  0  0  0  0  0  0  0  0  0  0  0  0  0  0  0  0  0  0  0  0  0  0  0  0  0  0  0  0  0  0  34\n",
      "p=35| 1  1  1  1  1  1  1  1  1  1  1  1  1  1  1  1  1  1  1  1  1  1  1  1  1  1  1  1  1  1  1  1  1  1  35\n",
      "p=36| 0  2  2  2  2  2  2  2  2  2  2  2  2  2  2  2  2  2  2  2  2  2  2  2  2  2  2  2  2  2  2  2  2  2  2  36\n",
      "p=37| 0  0  3  3  3  3  3  3  3  3  3  3  3  3  3  3  3  3  3  3  3  3  3  3  3  3  3  3  3  3  3  3  3  3  3  3  37\n",
      "p=38| 1  1  1  4  4  4  4  4  4  4  4  4  4  4  4  4  4  4  4  4  4  4  4  4  4  4  4  4  4  4  4  4  4  4  4  4  4  38\n",
      "p=39| 0  0  0  0  5  5  5  5  5  5  5  5  5  5  5  5  5  5  5  5  5  5  5  5  5  5  5  5  5  5  5  5  5  5  5  5  5  5  39\n",
      "p=40| 1  1  1  1  1  6  6  6  6  6  6  6  6  6  6  6  6  6  6  6  6  6  6  6  6  6  6  6  6  6  6  6  6  6  6  6  6  6  6  40\n",
      "     ------------------------------------------------------------------------------------------------------------------------\n",
      "  r = 1  2  3  4  5  6  7  8  9  10 11 12 13 14 15 16 17 18 19 20 21 22 23 24 25 26 27 28 29 30 31 32 33 34 35 36 37 38 39 40 \n"
     ]
    }
   ],
   "source": [
    "print_winning_table(40)"
   ]
  },
  {
   "cell_type": "code",
   "execution_count": null,
   "metadata": {
    "collapsed": true
   },
   "outputs": [],
   "source": []
  },
  {
   "cell_type": "code",
   "execution_count": null,
   "metadata": {
    "collapsed": true
   },
   "outputs": [],
   "source": []
  }
 ],
 "metadata": {
  "kernelspec": {
   "display_name": "Python 2",
   "language": "python",
   "name": "python2"
  },
  "language_info": {
   "codemirror_mode": {
    "name": "ipython",
    "version": 2
   },
   "file_extension": ".py",
   "mimetype": "text/x-python",
   "name": "python",
   "nbconvert_exporter": "python",
   "pygments_lexer": "ipython2",
   "version": "2.7.13"
  }
 },
 "nbformat": 4,
 "nbformat_minor": 2
}
